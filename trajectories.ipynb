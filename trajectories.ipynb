{
 "cells": [
  {
   "cell_type": "code",
   "execution_count": 1,
   "id": "79a1d6b6",
   "metadata": {},
   "outputs": [],
   "source": [
    "import pandas as pd\n",
    "import numpy as np\n",
    "import multiprocessing as mp\n",
    "from math import radians, sin, cos, sqrt, atan2\n",
    "import folium\n",
    "from folium.plugins import HeatMap"
   ]
  },
  {
   "cell_type": "code",
   "execution_count": 2,
   "id": "db4c1851",
   "metadata": {},
   "outputs": [],
   "source": [
    "df=pd.read_csv(\"combined_trajectories.csv\")"
   ]
  },
  {
   "cell_type": "code",
   "execution_count": 3,
   "id": "7158a21c",
   "metadata": {},
   "outputs": [
    {
     "data": {
      "text/html": [
       "<div>\n",
       "<style scoped>\n",
       "    .dataframe tbody tr th:only-of-type {\n",
       "        vertical-align: middle;\n",
       "    }\n",
       "\n",
       "    .dataframe tbody tr th {\n",
       "        vertical-align: top;\n",
       "    }\n",
       "\n",
       "    .dataframe thead th {\n",
       "        text-align: right;\n",
       "    }\n",
       "</style>\n",
       "<table border=\"1\" class=\"dataframe\">\n",
       "  <thead>\n",
       "    <tr style=\"text-align: right;\">\n",
       "      <th></th>\n",
       "      <th>latitude</th>\n",
       "      <th>longitude</th>\n",
       "      <th>altitude</th>\n",
       "      <th>date</th>\n",
       "      <th>time</th>\n",
       "      <th>individual_id</th>\n",
       "      <th>trajectory_id</th>\n",
       "    </tr>\n",
       "  </thead>\n",
       "  <tbody>\n",
       "    <tr>\n",
       "      <th>0</th>\n",
       "      <td>39.984702</td>\n",
       "      <td>116.318417</td>\n",
       "      <td>492.0</td>\n",
       "      <td>2023-10-23</td>\n",
       "      <td>02:53:04</td>\n",
       "      <td>1</td>\n",
       "      <td>1</td>\n",
       "    </tr>\n",
       "    <tr>\n",
       "      <th>1</th>\n",
       "      <td>39.984683</td>\n",
       "      <td>116.318450</td>\n",
       "      <td>492.0</td>\n",
       "      <td>2023-10-23</td>\n",
       "      <td>02:53:10</td>\n",
       "      <td>1</td>\n",
       "      <td>1</td>\n",
       "    </tr>\n",
       "    <tr>\n",
       "      <th>2</th>\n",
       "      <td>39.984686</td>\n",
       "      <td>116.318417</td>\n",
       "      <td>492.0</td>\n",
       "      <td>2023-10-23</td>\n",
       "      <td>02:53:15</td>\n",
       "      <td>1</td>\n",
       "      <td>1</td>\n",
       "    </tr>\n",
       "    <tr>\n",
       "      <th>3</th>\n",
       "      <td>39.984688</td>\n",
       "      <td>116.318385</td>\n",
       "      <td>492.0</td>\n",
       "      <td>2023-10-23</td>\n",
       "      <td>02:53:20</td>\n",
       "      <td>1</td>\n",
       "      <td>1</td>\n",
       "    </tr>\n",
       "    <tr>\n",
       "      <th>4</th>\n",
       "      <td>39.984655</td>\n",
       "      <td>116.318263</td>\n",
       "      <td>492.0</td>\n",
       "      <td>2023-10-23</td>\n",
       "      <td>02:53:25</td>\n",
       "      <td>1</td>\n",
       "      <td>1</td>\n",
       "    </tr>\n",
       "  </tbody>\n",
       "</table>\n",
       "</div>"
      ],
      "text/plain": [
       "    latitude   longitude  altitude        date      time  individual_id   \n",
       "0  39.984702  116.318417     492.0  2023-10-23  02:53:04              1  \\\n",
       "1  39.984683  116.318450     492.0  2023-10-23  02:53:10              1   \n",
       "2  39.984686  116.318417     492.0  2023-10-23  02:53:15              1   \n",
       "3  39.984688  116.318385     492.0  2023-10-23  02:53:20              1   \n",
       "4  39.984655  116.318263     492.0  2023-10-23  02:53:25              1   \n",
       "\n",
       "   trajectory_id  \n",
       "0              1  \n",
       "1              1  \n",
       "2              1  \n",
       "3              1  \n",
       "4              1  "
      ]
     },
     "execution_count": 3,
     "metadata": {},
     "output_type": "execute_result"
    }
   ],
   "source": [
    "df.head()"
   ]
  },
  {
   "cell_type": "code",
   "execution_count": 4,
   "id": "fa516e16",
   "metadata": {},
   "outputs": [],
   "source": [
    "def calculate_distance(lat1, lon1, lat2, lon2):\n",
    "    R = 6371.0 # approximate radius of earth in km\n",
    "\n",
    "    lat1 = radians(lat1)\n",
    "    lon1 = radians(lon1)\n",
    "    lat2 = radians(lat2)\n",
    "    lon2 = radians(lon2)\n",
    "\n",
    "    dlon = lon2 - lon1\n",
    "    dlat = lat2 - lat1\n",
    "\n",
    "    a = sin(dlat / 2)**2 + cos(lat1) * cos(lat2) * sin(dlon / 2)**2\n",
    "    c = 2 * atan2(sqrt(a), sqrt(1 - a))\n",
    "\n",
    "    distance = R * c\n",
    "\n",
    "    return distance\n",
    "\n"
   ]
  },
  {
   "cell_type": "code",
   "execution_count": 5,
   "id": "e89da1c1",
   "metadata": {},
   "outputs": [],
   "source": [
    "def calculate_total_distance(user_data):\n",
    "    distances = []\n",
    "    for i in range(len(user_data)-1):\n",
    "        lat1 = user_data.iloc[i]['latitude']\n",
    "        lon1 = user_data.iloc[i]['longitude']\n",
    "        lat2 = user_data.iloc[i+1]['latitude']\n",
    "        lon2 = user_data.iloc[i+1]['longitude']\n",
    "        distances.append(calculate_distance(lat1, lon1, lat2, lon2))\n",
    "    return np.sum(distances)"
   ]
  },
  {
   "cell_type": "code",
   "execution_count": 6,
   "id": "bf59d703",
   "metadata": {},
   "outputs": [],
   "source": [
    "def calculate_all_total_distances(df):\n",
    "    users = df['individual_id'].unique()\n",
    "    pool = mp.Pool(mp.cpu_count())\n",
    "    results = [pool.apply_async(calculate_total_distance, args=(df[df['individual_id']==user],)) for user in users]\n",
    "    total_distances = [result.get() for result in results]\n",
    "    pool.close()\n",
    "    return pd.DataFrame({'individual_id': users, 'total_distance': total_distances})\n"
   ]
  },
  {
   "cell_type": "code",
   "execution_count": null,
   "id": "37832680",
   "metadata": {},
   "outputs": [],
   "source": [
    "total_distances = calculate_all_total_distances(df)\n",
    "print(total_distances)"
   ]
  },
  {
   "cell_type": "code",
   "execution_count": 7,
   "id": "3d72c014",
   "metadata": {},
   "outputs": [],
   "source": [
    "# Define the bounding box around Beijing city\n",
    "beijing_box = [39.4437, 116.0886, 41.055, 117.5147]\n",
    "\n",
    "# Filter the GPS df to only contain trips within Beijing city\n",
    "beijing_df = df[(df['latitude'] >= beijing_box[0]) &\n",
    "                    (df['latitude'] <= beijing_box[2]) &\n",
    "                    (df['longitude'] >= beijing_box[1]) &\n",
    "                    (df['longitude'] <= beijing_box[3])]\n",
    "\n",
    "# Create a heatmap to visualize the density of GPS points in different regions of the city\n",
    "beijing_heatmap = folium.Map(location=[39.9042, 116.4074], zoom_start=10)\n",
    "\n",
    "HeatMap(beijing_df[['latitude', 'longitude']].values, radius=10).add_to(beijing_heatmap)\n",
    "\n",
    "beijing_heatmap.save('beijing_heatmap.html')\n"
   ]
  },
  {
   "cell_type": "raw",
   "id": "179a20f5",
   "metadata": {},
   "source": [
    "With the availability of GPS-tracking datasets, one interesting problem that can be solved is predicting the future locations of individuals. Such a prediction problem has numerous real-world applications, including personalized advertising, location-based recommendations, and emergency response. In this scenario, I would like to solve the problem of predicting the next location of individuals based on their past movements.\n",
    "\n",
    "The methodology I would use to solve this problem is a machine learning technique called sequence modeling. Sequence modeling is a type of deep learning that is designed to handle sequential data. In this case, the sequential data refers to the historical trajectories of individuals over time. Specifically, I would use recurrent neural networks (RNNs), a type of sequence modeling technique, to learn patterns from the past movements of individuals and use them to predict their future locations.\n",
    "\n",
    "To implement this approach, I would first pre-process the raw GPS-tracking data by cleaning and aggregating it into sequences of coordinates that correspond to individual users. Next, I would split the pre-processed data into training, validation, and test sets. I would use the training set to train the RNN model to learn the patterns from the historical sequences. Then, I would use the validation set to tune the hyperparameters of the RNN model to optimize its performance. Finally, I would use the test set to evaluate the performance of the model in predicting the future locations of individuals.\n",
    "\n",
    "To enhance the performance of the RNN model, I would incorporate additional features such as weather conditions, time of day, and day of the week. These features can provide useful information to the model to learn patterns that are specific to certain times and locations. Moreover, I would incorporate techniques such as attention mechanisms and ensembling to further improve the accuracy of the model.\n",
    "\n",
    "In conclusion, predicting the future locations of individuals using GPS-tracking data is a challenging and exciting problem with a wide range of practical applications. By using sequence modeling techniques such as RNNs, we can effectively leverage the historical trajectories of individuals to make accurate predictions about their future movements."
   ]
  }
 ],
 "metadata": {
  "kernelspec": {
   "display_name": "Python 3 (ipykernel)",
   "language": "python",
   "name": "python3"
  },
  "language_info": {
   "codemirror_mode": {
    "name": "ipython",
    "version": 3
   },
   "file_extension": ".py",
   "mimetype": "text/x-python",
   "name": "python",
   "nbconvert_exporter": "python",
   "pygments_lexer": "ipython3",
   "version": "3.9.13"
  }
 },
 "nbformat": 4,
 "nbformat_minor": 5
}
